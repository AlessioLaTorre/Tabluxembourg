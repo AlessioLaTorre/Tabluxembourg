{
 "cells": [
  {
   "cell_type": "code",
   "execution_count": 2,
   "metadata": {},
   "outputs": [],
   "source": [
    "from TablutProject.Domain.Action import *\n",
    "from TablutProject.State.State import *"
   ]
  },
  {
   "cell_type": "code",
   "execution_count": 3,
   "metadata": {},
   "outputs": [],
   "source": [
    "a = Action(from_= (1,5), to = (2,5), turn = 'WHITE')"
   ]
  },
  {
   "cell_type": "code",
   "execution_count": 10,
   "metadata": {},
   "outputs": [
    {
     "name": "stdout",
     "output_type": "stream",
     "text": [
      "Turn: WHITE. Pawn from (1, 5) to (2, 5)\n",
      "WHITE\n"
     ]
    }
   ],
   "source": [
    "print(a)\n",
    "print(a.turn)"
   ]
  },
  {
   "cell_type": "code",
   "execution_count": 15,
   "metadata": {},
   "outputs": [
    {
     "data": {
      "text/plain": [
       "[[<Pawn.EMPTY: 'O'>,\n",
       "  <Pawn.EMPTY: 'O'>,\n",
       "  <Pawn.EMPTY: 'O'>,\n",
       "  <Pawn.BLACK: 'B'>,\n",
       "  <Pawn.BLACK: 'B'>,\n",
       "  <Pawn.BLACK: 'B'>,\n",
       "  <Pawn.EMPTY: 'O'>,\n",
       "  <Pawn.EMPTY: 'O'>,\n",
       "  <Pawn.EMPTY: 'O'>],\n",
       " [<Pawn.EMPTY: 'O'>,\n",
       "  <Pawn.EMPTY: 'O'>,\n",
       "  <Pawn.EMPTY: 'O'>,\n",
       "  <Pawn.EMPTY: 'O'>,\n",
       "  <Pawn.BLACK: 'B'>,\n",
       "  <Pawn.EMPTY: 'O'>,\n",
       "  <Pawn.EMPTY: 'O'>,\n",
       "  <Pawn.EMPTY: 'O'>,\n",
       "  <Pawn.EMPTY: 'O'>],\n",
       " [<Pawn.EMPTY: 'O'>,\n",
       "  <Pawn.EMPTY: 'O'>,\n",
       "  <Pawn.EMPTY: 'O'>,\n",
       "  <Pawn.EMPTY: 'O'>,\n",
       "  <Pawn.WHITE: 'W'>,\n",
       "  <Pawn.EMPTY: 'O'>,\n",
       "  <Pawn.EMPTY: 'O'>,\n",
       "  <Pawn.EMPTY: 'O'>,\n",
       "  <Pawn.EMPTY: 'O'>],\n",
       " [<Pawn.BLACK: 'B'>,\n",
       "  <Pawn.EMPTY: 'O'>,\n",
       "  <Pawn.EMPTY: 'O'>,\n",
       "  <Pawn.EMPTY: 'O'>,\n",
       "  <Pawn.WHITE: 'W'>,\n",
       "  <Pawn.EMPTY: 'O'>,\n",
       "  <Pawn.EMPTY: 'O'>,\n",
       "  <Pawn.EMPTY: 'O'>,\n",
       "  <Pawn.BLACK: 'B'>],\n",
       " [<Pawn.BLACK: 'B'>,\n",
       "  <Pawn.BLACK: 'B'>,\n",
       "  <Pawn.WHITE: 'W'>,\n",
       "  <Pawn.WHITE: 'W'>,\n",
       "  <Pawn.KING: 'K'>,\n",
       "  <Pawn.WHITE: 'W'>,\n",
       "  <Pawn.WHITE: 'W'>,\n",
       "  <Pawn.BLACK: 'B'>,\n",
       "  <Pawn.BLACK: 'B'>],\n",
       " [<Pawn.BLACK: 'B'>,\n",
       "  <Pawn.EMPTY: 'O'>,\n",
       "  <Pawn.EMPTY: 'O'>,\n",
       "  <Pawn.EMPTY: 'O'>,\n",
       "  <Pawn.WHITE: 'W'>,\n",
       "  <Pawn.EMPTY: 'O'>,\n",
       "  <Pawn.EMPTY: 'O'>,\n",
       "  <Pawn.EMPTY: 'O'>,\n",
       "  <Pawn.BLACK: 'B'>],\n",
       " [<Pawn.EMPTY: 'O'>,\n",
       "  <Pawn.EMPTY: 'O'>,\n",
       "  <Pawn.EMPTY: 'O'>,\n",
       "  <Pawn.EMPTY: 'O'>,\n",
       "  <Pawn.WHITE: 'W'>,\n",
       "  <Pawn.EMPTY: 'O'>,\n",
       "  <Pawn.EMPTY: 'O'>,\n",
       "  <Pawn.EMPTY: 'O'>,\n",
       "  <Pawn.EMPTY: 'O'>],\n",
       " [<Pawn.EMPTY: 'O'>,\n",
       "  <Pawn.EMPTY: 'O'>,\n",
       "  <Pawn.EMPTY: 'O'>,\n",
       "  <Pawn.EMPTY: 'O'>,\n",
       "  <Pawn.BLACK: 'B'>,\n",
       "  <Pawn.EMPTY: 'O'>,\n",
       "  <Pawn.EMPTY: 'O'>,\n",
       "  <Pawn.EMPTY: 'O'>,\n",
       "  <Pawn.EMPTY: 'O'>],\n",
       " [<Pawn.EMPTY: 'O'>,\n",
       "  <Pawn.EMPTY: 'O'>,\n",
       "  <Pawn.EMPTY: 'O'>,\n",
       "  <Pawn.BLACK: 'B'>,\n",
       "  <Pawn.BLACK: 'B'>,\n",
       "  <Pawn.BLACK: 'B'>,\n",
       "  <Pawn.EMPTY: 'O'>,\n",
       "  <Pawn.EMPTY: 'O'>,\n",
       "  <Pawn.EMPTY: 'O'>]]"
      ]
     },
     "execution_count": 15,
     "metadata": {},
     "output_type": "execute_result"
    }
   ],
   "source": [
    "s = State()\n",
    "#print(s.board)\n",
    "State.Pawn.BLACK\n",
    "str(s.turn)\n",
    "s.board"
   ]
  }
 ],
 "metadata": {
  "kernelspec": {
   "display_name": "DMML",
   "language": "python",
   "name": "python3"
  },
  "language_info": {
   "codemirror_mode": {
    "name": "ipython",
    "version": 3
   },
   "file_extension": ".py",
   "mimetype": "text/x-python",
   "name": "python",
   "nbconvert_exporter": "python",
   "pygments_lexer": "ipython3",
   "version": "3.12.7"
  }
 },
 "nbformat": 4,
 "nbformat_minor": 2
}
